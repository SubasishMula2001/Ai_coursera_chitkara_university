{
 "cells": [
  {
   "cell_type": "markdown",
   "metadata": {},
   "source": [
    "# Import software libraries and load the dataset #"
   ]
  },
  {
   "cell_type": "code",
   "execution_count": 1,
   "metadata": {},
   "outputs": [
    {
     "name": "stdout",
     "output_type": "stream",
     "text": [
      "Libraries used in this project:\n",
      "- Python 3.7.6 | packaged by conda-forge | (default, Mar 23 2020, 23:03:20) \n",
      "[GCC 7.3.0]\n",
      "- NumPy 1.16.2\n",
      "- pandas 0.24.2\n",
      "- Matplotlib 3.0.3\n",
      "- scikit-learn 0.20.3\n",
      "\n",
      "Loaded 150 records.\n"
     ]
    }
   ],
   "source": [
    "import sys                             # Read system parameters.\n",
    "import numpy as np                     # Work with multi-dimensional arrays and matrices.\n",
    "import pandas as pd                    # Manipulate and analyze data.\n",
    "import matplotlib as mpl               # Create 2D charts.\n",
    "import matplotlib.pyplot as plt\n",
    "import seaborn as sb                   # Perform data visualization.\n",
    "import sklearn                         # Perform data mining and analysis.\n",
    "from sklearn import datasets\n",
    "\n",
    "# Summarize software libraries used.\n",
    "print('Libraries used in this project:')\n",
    "print('- Python {}'.format(sys.version))\n",
    "print('- NumPy {}'.format(np.__version__))\n",
    "print('- pandas {}'.format(pd.__version__))\n",
    "print('- Matplotlib {}'.format(mpl.__version__))\n",
    "print('- scikit-learn {}\\n'.format(sklearn.__version__))\n",
    "\n",
    "# Load the dataset.\n",
    "iris = datasets.load_iris()\n",
    "print('Loaded {} records.'.format(len(iris.data)))"
   ]
  },
  {
   "cell_type": "markdown",
   "metadata": {},
   "source": [
    "# Get acquainted with the dataset #"
   ]
  },
  {
   "cell_type": "code",
   "execution_count": 2,
   "metadata": {},
   "outputs": [
    {
     "name": "stdout",
     "output_type": "stream",
     "text": [
      "<class 'pandas.core.frame.DataFrame'>\n",
      "RangeIndex: 150 entries, 0 to 149\n",
      "Data columns (total 5 columns):\n",
      "sepal length (cm)    150 non-null float64\n",
      "sepal width (cm)     150 non-null float64\n",
      "petal length (cm)    150 non-null float64\n",
      "petal width (cm)     150 non-null float64\n",
      "target               150 non-null int64\n",
      "dtypes: float64(4), int64(1)\n",
      "memory usage: 5.9 KB\n",
      "None\n"
     ]
    },
    {
     "data": {
      "text/html": [
       "<div>\n",
       "<style scoped>\n",
       "    .dataframe tbody tr th:only-of-type {\n",
       "        vertical-align: middle;\n",
       "    }\n",
       "\n",
       "    .dataframe tbody tr th {\n",
       "        vertical-align: top;\n",
       "    }\n",
       "\n",
       "    .dataframe thead th {\n",
       "        text-align: right;\n",
       "    }\n",
       "</style>\n",
       "<table border=\"1\" class=\"dataframe\">\n",
       "  <thead>\n",
       "    <tr style=\"text-align: right;\">\n",
       "      <th></th>\n",
       "      <th>sepal length (cm)</th>\n",
       "      <th>sepal width (cm)</th>\n",
       "      <th>petal length (cm)</th>\n",
       "      <th>petal width (cm)</th>\n",
       "      <th>target</th>\n",
       "    </tr>\n",
       "  </thead>\n",
       "  <tbody>\n",
       "    <tr>\n",
       "      <th>0</th>\n",
       "      <td>5.1</td>\n",
       "      <td>3.5</td>\n",
       "      <td>1.4</td>\n",
       "      <td>0.2</td>\n",
       "      <td>0</td>\n",
       "    </tr>\n",
       "    <tr>\n",
       "      <th>1</th>\n",
       "      <td>4.9</td>\n",
       "      <td>3.0</td>\n",
       "      <td>1.4</td>\n",
       "      <td>0.2</td>\n",
       "      <td>0</td>\n",
       "    </tr>\n",
       "    <tr>\n",
       "      <th>2</th>\n",
       "      <td>4.7</td>\n",
       "      <td>3.2</td>\n",
       "      <td>1.3</td>\n",
       "      <td>0.2</td>\n",
       "      <td>0</td>\n",
       "    </tr>\n",
       "    <tr>\n",
       "      <th>3</th>\n",
       "      <td>4.6</td>\n",
       "      <td>3.1</td>\n",
       "      <td>1.5</td>\n",
       "      <td>0.2</td>\n",
       "      <td>0</td>\n",
       "    </tr>\n",
       "    <tr>\n",
       "      <th>4</th>\n",
       "      <td>5.0</td>\n",
       "      <td>3.6</td>\n",
       "      <td>1.4</td>\n",
       "      <td>0.2</td>\n",
       "      <td>0</td>\n",
       "    </tr>\n",
       "    <tr>\n",
       "      <th>5</th>\n",
       "      <td>5.4</td>\n",
       "      <td>3.9</td>\n",
       "      <td>1.7</td>\n",
       "      <td>0.4</td>\n",
       "      <td>0</td>\n",
       "    </tr>\n",
       "    <tr>\n",
       "      <th>6</th>\n",
       "      <td>4.6</td>\n",
       "      <td>3.4</td>\n",
       "      <td>1.4</td>\n",
       "      <td>0.3</td>\n",
       "      <td>0</td>\n",
       "    </tr>\n",
       "    <tr>\n",
       "      <th>7</th>\n",
       "      <td>5.0</td>\n",
       "      <td>3.4</td>\n",
       "      <td>1.5</td>\n",
       "      <td>0.2</td>\n",
       "      <td>0</td>\n",
       "    </tr>\n",
       "    <tr>\n",
       "      <th>8</th>\n",
       "      <td>4.4</td>\n",
       "      <td>2.9</td>\n",
       "      <td>1.4</td>\n",
       "      <td>0.2</td>\n",
       "      <td>0</td>\n",
       "    </tr>\n",
       "    <tr>\n",
       "      <th>9</th>\n",
       "      <td>4.9</td>\n",
       "      <td>3.1</td>\n",
       "      <td>1.5</td>\n",
       "      <td>0.1</td>\n",
       "      <td>0</td>\n",
       "    </tr>\n",
       "  </tbody>\n",
       "</table>\n",
       "</div>"
      ],
      "text/plain": [
       "   sepal length (cm)  sepal width (cm)  petal length (cm)  petal width (cm)  \\\n",
       "0                5.1               3.5                1.4               0.2   \n",
       "1                4.9               3.0                1.4               0.2   \n",
       "2                4.7               3.2                1.3               0.2   \n",
       "3                4.6               3.1                1.5               0.2   \n",
       "4                5.0               3.6                1.4               0.2   \n",
       "5                5.4               3.9                1.7               0.4   \n",
       "6                4.6               3.4                1.4               0.3   \n",
       "7                5.0               3.4                1.5               0.2   \n",
       "8                4.4               2.9                1.4               0.2   \n",
       "9                4.9               3.1                1.5               0.1   \n",
       "\n",
       "   target  \n",
       "0       0  \n",
       "1       0  \n",
       "2       0  \n",
       "3       0  \n",
       "4       0  \n",
       "5       0  \n",
       "6       0  \n",
       "7       0  \n",
       "8       0  \n",
       "9       0  "
      ]
     },
     "execution_count": 2,
     "metadata": {},
     "output_type": "execute_result"
    }
   ],
   "source": [
    "# Convert array to pandas DataFrame.\n",
    "data_raw = pd.DataFrame(iris['data'], columns = iris['feature_names'])\n",
    "data_raw['target'] = iris['target']\n",
    "\n",
    "print(data_raw.info())      # View data types and see if there are missing entries.\n",
    "data_raw.head(10)           # View first 10 records."
   ]
  },
  {
   "cell_type": "markdown",
   "metadata": {},
   "source": [
    "# Examine a general summary of statistics"
   ]
  },
  {
   "cell_type": "code",
   "execution_count": 3,
   "metadata": {},
   "outputs": [
    {
     "name": "stdout",
     "output_type": "stream",
     "text": [
      "       sepal length (cm)  sepal width (cm)  petal length (cm)  \\\n",
      "count             150.00            150.00             150.00   \n",
      "mean                5.84              3.06               3.76   \n",
      "std                 0.83              0.44               1.77   \n",
      "min                 4.30              2.00               1.00   \n",
      "25%                 5.10              2.80               1.60   \n",
      "50%                 5.80              3.00               4.35   \n",
      "75%                 6.40              3.30               5.10   \n",
      "max                 7.90              4.40               6.90   \n",
      "\n",
      "       petal width (cm)  target  \n",
      "count            150.00  150.00  \n",
      "mean               1.20    1.00  \n",
      "std                0.76    0.82  \n",
      "min                0.10    0.00  \n",
      "25%                0.30    0.00  \n",
      "50%                1.30    1.00  \n",
      "75%                1.80    2.00  \n",
      "max                2.50    2.00  \n"
     ]
    }
   ],
   "source": [
    "with pd.option_context('float_format', '{:.2f}'.format): \n",
    "    print(data_raw.describe())"
   ]
  },
  {
   "cell_type": "markdown",
   "metadata": {},
   "source": [
    "# Identify outliers"
   ]
  },
  {
   "cell_type": "code",
   "execution_count": 4,
   "metadata": {},
   "outputs": [
    {
     "data": {
      "image/png": "[encoded data removed]",
      "text/plain": [
       "<Figure size 1440x144 with 1 Axes>"
      ]
     },
     "metadata": {
      "needs_background": "light"
     },
     "output_type": "display_data"
    }
   ],
   "source": [
    "plt.figure(figsize = (20, 2))\n",
    "bplot = sb.boxplot(x = 'sepal width (cm)', data = data_raw, orient = 'h', fliersize = 7)"
   ]
  },
  {
   "cell_type": "markdown",
   "metadata": {},
   "source": [
    "# Reduce the dimensionality of the dataset"
   ]
  },
  {
   "cell_type": "code",
   "execution_count": 5,
   "metadata": {},
   "outputs": [
    {
     "name": "stdout",
     "output_type": "stream",
     "text": [
      "\n",
      "Before reduction:\n",
      "X dataset dimensions are (150, 2)\n",
      "y dataset dimensions are (150,)\n",
      "\n",
      "After reduction:\n",
      "X dataset dimensions are (100, 2)\n",
      "y dataset dimensions are (100,)\n"
     ]
    }
   ],
   "source": [
    "X = iris['data'][:, :2]  # Only use first two features (sepal length and sepal width).\n",
    "y = iris['target']\n",
    "\n",
    "print(\"\\nBefore reduction:\")\n",
    "print(\"X dataset dimensions are\", X.shape)\n",
    "print(\"y dataset dimensions are\", y.shape)\n",
    "\n",
    "# Only use labels 0 and 1 (setosa and versicolor).\n",
    "class_labels = (y == 0) | (y == 1)\n",
    "X = X[class_labels]\n",
    "y = y[class_labels]\n",
    "\n",
    "print(\"\\nAfter reduction:\")\n",
    "print(\"X dataset dimensions are\", X.shape)\n",
    "print(\"y dataset dimensions are\", y.shape)"
   ]
  },
  {
   "cell_type": "markdown",
   "metadata": {},
   "source": [
    "# Examine the separation between classes using a scatter plot"
   ]
  },
  {
   "cell_type": "code",
   "execution_count": 6,
   "metadata": {},
   "outputs": [
    {
     "data": {
      "image/png": "[encoded data removed]",
      "text/plain": [
       "<Figure size 432x288 with 1 Axes>"
      ]
     },
     "metadata": {
      "needs_background": "light"
     },
     "output_type": "display_data"
    }
   ],
   "source": [
    "# Sepal length along x-axis, sepal width along y-axis.\n",
    "scatter_x = X[:, 0]\n",
    "scatter_y = X[:, 1]\n",
    "\n",
    "cdict = {0: 'green', 1: 'grey'}\n",
    "\n",
    "# Generate scatter plot with legend.\n",
    "for c_label in np.unique(y):\n",
    "    if c_label == 0:\n",
    "        iris = 'setosa'\n",
    "    if c_label == 1:\n",
    "        iris = 'versicolor'\n",
    "    \n",
    "    ix = np.where(y == c_label)\n",
    "    plt.scatter(scatter_x[ix], scatter_y[ix], c = cdict[c_label], label = iris, s = 40)\n",
    "    \n",
    "plt.legend()\n",
    "plt.xlabel(\"Sepal length\", fontsize = 13)\n",
    "plt.ylabel(\"Sepal width\", fontsize = 13)\n",
    "plt.annotate('Possible outlier', xy = (4.4, 2.3), xytext = (2.9, 2.2),\n",
    "             arrowprops = dict(color= 'black'), fontsize = 15);"
   ]
  },
  {
   "cell_type": "markdown",
   "metadata": {},
   "source": [
    "# Plot a decision boundary for a given model"
   ]
  },
  {
   "cell_type": "code",
   "execution_count": 7,
   "metadata": {},
   "outputs": [
    {
     "name": "stdout",
     "output_type": "stream",
     "text": [
      "Function to plot the decision boundary has been defined.\n"
     ]
    }
   ],
   "source": [
    "def plot_decision_boundary(X, y, model, is_svm):\n",
    "    scatter_x = X[:, 0]\n",
    "    scatter_y = X[:, 1]\n",
    "\n",
    "    cdict = {0: 'green', 1: 'grey'}\n",
    "\n",
    "    for c_label in np.unique(y):\n",
    "        if c_label == 0:\n",
    "            iris = 'setosa'\n",
    "        if c_label == 1:\n",
    "            iris = 'versicolor'\n",
    "\n",
    "        ix = np.where(y == c_label)\n",
    "        plt.scatter(scatter_x[ix], scatter_y[ix], c = cdict[c_label], label = iris, s = 40)\n",
    "        \n",
    "    plt.legend()\n",
    "    plt.xlabel(\"Sepal length\", fontsize = 13)\n",
    "    plt.ylabel(\"Sepal width\", fontsize = 13)\n",
    "\n",
    "    ax = plt.gca()\n",
    "    xlim = ax.get_xlim()\n",
    "    ylim = ax.get_ylim()\n",
    "\n",
    "    # Create grid.\n",
    "    xx = np.linspace(xlim[0], xlim[1], 40)\n",
    "    yy = np.linspace(ylim[0], ylim[1], 40)\n",
    "    YY, XX = np.meshgrid(yy, xx)\n",
    "    xy = np.vstack([XX.ravel(), YY.ravel()]).T\n",
    "    Z = model.decision_function(xy).reshape(XX.shape)  # Use model decision function to plot boundary.\n",
    "    \n",
    "    if is_svm == True:\n",
    "        # Plot decision boundary and margins.\n",
    "        ax.contour(XX, YY, Z, colors = 'r', levels = [-1, 0, 1], \n",
    "                   linestyles=['--', '-', '--'])\n",
    "        \n",
    "        # Plot support vectors.\n",
    "        ax.scatter(model.support_vectors_[:, 0], model.support_vectors_[:, 1],\n",
    "                   s = 100, linewidth = 1, facecolors = 'none', edgecolors = 'k')\n",
    "    else:\n",
    "        ax.contour(XX, YY, Z, colors = 'r', levels = [0], \n",
    "                   linestyles=['-'])\n",
    "        \n",
    "    plt.show()\n",
    "    \n",
    "print('Function to plot the decision boundary has been defined.')"
   ]
  },
  {
   "cell_type": "markdown",
   "metadata": {},
   "source": [
    "# Train a basic logistic regression model and plot its decision boundary"
   ]
  },
  {
   "cell_type": "code",
   "execution_count": 8,
   "metadata": {},
   "outputs": [
    {
     "data": {
      "image/png": "[encoded data removed]",
      "text/plain": [
       "<Figure size 432x288 with 1 Axes>"
      ]
     },
     "metadata": {
      "needs_background": "light"
     },
     "output_type": "display_data"
    }
   ],
   "source": [
    "from sklearn.linear_model import LogisticRegression\n",
    "\n",
    "log_reg = LogisticRegression(solver = 'liblinear', random_state = 1936)\n",
    "log_reg.fit(X, y);\n",
    "\n",
    "plot_decision_boundary(X, y, log_reg, False)"
   ]
  },
  {
   "cell_type": "markdown",
   "metadata": {},
   "source": [
    "# Train an SVM model and plot its decision boundary plus margins"
   ]
  },
  {
   "cell_type": "code",
   "execution_count": 9,
   "metadata": {},
   "outputs": [
    {
     "data": {
      "image/png": "[encoded data removed]",
      "text/plain": [
       "<Figure size 432x288 with 1 Axes>"
      ]
     },
     "metadata": {
      "needs_background": "light"
     },
     "output_type": "display_data"
    }
   ],
   "source": [
    "from sklearn.svm import SVC\n",
    "\n",
    "svm = SVC(kernel = 'linear', C = 100, random_state = 1936)\n",
    "svm.fit(X, y)\n",
    "\n",
    "plot_decision_boundary(X, y, svm, True)"
   ]
  },
  {
   "cell_type": "markdown",
   "metadata": {},
   "source": [
    "# Reduce the regularization penalty to soften the margin"
   ]
  },
  {
   "cell_type": "code",
   "execution_count": 10,
   "metadata": {},
   "outputs": [
    {
     "data": {
      "image/png": "[encoded data removed]",
      "text/plain": [
       "<Figure size 432x288 with 1 Axes>"
      ]
     },
     "metadata": {
      "needs_background": "light"
     },
     "output_type": "display_data"
    }
   ],
   "source": [
    "svm = SVC(kernel = 'linear', C = 0.1, random_state = 1936)\n",
    "svm.fit(X, y)\n",
    "\n",
    "plot_decision_boundary(X, y, svm, True)"
   ]
  },
  {
   "cell_type": "markdown",
   "metadata": {},
   "source": [
    "# Split the datasets"
   ]
  },
  {
   "cell_type": "code",
   "execution_count": 11,
   "metadata": {},
   "outputs": [
    {
     "name": "stdout",
     "output_type": "stream",
     "text": [
      "The training and test datasets and their labels have been split.\n"
     ]
    }
   ],
   "source": [
    "from sklearn.model_selection import train_test_split\n",
    "\n",
    "label_columns = ['target']\n",
    "\n",
    "training_columns = ['sepal length (cm)', 'sepal width (cm)' , 'petal length (cm)', 'petal width (cm)']\n",
    "\n",
    "# Split the training and test datasets and their labels.\n",
    "X_train, X_test, y_train, y_test = train_test_split(data_raw[training_columns],\n",
    "                                                                            data_raw[label_columns],\n",
    "                                                                            random_state = 1936)\n",
    "\n",
    "print('The training and test datasets and their labels have been split.')"
   ]
  },
  {
   "cell_type": "markdown",
   "metadata": {},
   "source": [
    "# Evaluate an SVM model using a holdout test set"
   ]
  },
  {
   "cell_type": "code",
   "execution_count": 12,
   "metadata": {},
   "outputs": [
    {
     "name": "stdout",
     "output_type": "stream",
     "text": [
      "Accuracy: 92%\n"
     ]
    }
   ],
   "source": [
    "svm = SVC(kernel = 'linear', C = 100, random_state = 1936)\n",
    "svm.fit(X_train, np.ravel(y_train))\n",
    "\n",
    "# Score using the test data.\n",
    "score = svm.score(X_test, y_test)\n",
    "\n",
    "print('Accuracy: {:.0f}%'.format(score * 100))"
   ]
  },
  {
   "cell_type": "markdown",
   "metadata": {},
   "source": [
    "# Optimize the SVM model with grid search and cross-validation"
   ]
  },
  {
   "cell_type": "code",
   "execution_count": 13,
   "metadata": {},
   "outputs": [
    {
     "name": "stdout",
     "output_type": "stream",
     "text": [
      "{'C': 0.01, 'kernel': 'poly'}\n"
     ]
    }
   ],
   "source": [
    "from sklearn.model_selection import GridSearchCV\n",
    "\n",
    "svm = SVC(gamma = 'auto', random_state = 1936)\n",
    "\n",
    "grid = [{'kernel': ['linear', 'rbf', 'poly', 'sigmoid'],\n",
    "         'C': [0.01, 0.1, 1, 5, 10, 25, 50, 100]}]\n",
    "\n",
    "search = GridSearchCV(svm, param_grid = grid, scoring = 'accuracy', cv = 5, iid = False)\n",
    "search.fit(X_train, np.ravel(y_train));\n",
    "\n",
    "print(search.best_params_)"
   ]
  },
  {
   "cell_type": "code",
   "execution_count": 14,
   "metadata": {},
   "outputs": [
    {
     "name": "stdout",
     "output_type": "stream",
     "text": [
      "Accuracy: 95%\n"
     ]
    }
   ],
   "source": [
    "# Score using the test data.\n",
    "score = search.score(X_test, y_test)\n",
    "\n",
    "print('Accuracy: {:.0f}%'.format(score * 100))"
   ]
  },
  {
   "cell_type": "markdown",
   "metadata": {},
   "source": [
    "# Examine the optimized SVM model's predictions"
   ]
  },
  {
   "cell_type": "code",
   "execution_count": 15,
   "metadata": {},
   "outputs": [
    {
     "data": {
      "text/html": [
       "<div>\n",
       "<style scoped>\n",
       "    .dataframe tbody tr th:only-of-type {\n",
       "        vertical-align: middle;\n",
       "    }\n",
       "\n",
       "    .dataframe tbody tr th {\n",
       "        vertical-align: top;\n",
       "    }\n",
       "\n",
       "    .dataframe thead th {\n",
       "        text-align: right;\n",
       "    }\n",
       "</style>\n",
       "<table border=\"1\" class=\"dataframe\">\n",
       "  <thead>\n",
       "    <tr style=\"text-align: right;\">\n",
       "      <th></th>\n",
       "      <th>sepal length (cm)</th>\n",
       "      <th>sepal width (cm)</th>\n",
       "      <th>petal length (cm)</th>\n",
       "      <th>petal width (cm)</th>\n",
       "      <th>Predicted Iris</th>\n",
       "      <th>Actual Iris</th>\n",
       "    </tr>\n",
       "  </thead>\n",
       "  <tbody>\n",
       "    <tr>\n",
       "      <th>121</th>\n",
       "      <td>5.6</td>\n",
       "      <td>2.8</td>\n",
       "      <td>4.9</td>\n",
       "      <td>2.0</td>\n",
       "      <td>virginica</td>\n",
       "      <td>virginica</td>\n",
       "    </tr>\n",
       "    <tr>\n",
       "      <th>67</th>\n",
       "      <td>5.8</td>\n",
       "      <td>2.7</td>\n",
       "      <td>4.1</td>\n",
       "      <td>1.0</td>\n",
       "      <td>versicolor</td>\n",
       "      <td>versicolor</td>\n",
       "    </tr>\n",
       "    <tr>\n",
       "      <th>148</th>\n",
       "      <td>6.2</td>\n",
       "      <td>3.4</td>\n",
       "      <td>5.4</td>\n",
       "      <td>2.3</td>\n",
       "      <td>virginica</td>\n",
       "      <td>virginica</td>\n",
       "    </tr>\n",
       "    <tr>\n",
       "      <th>77</th>\n",
       "      <td>6.7</td>\n",
       "      <td>3.0</td>\n",
       "      <td>5.0</td>\n",
       "      <td>1.7</td>\n",
       "      <td>versicolor</td>\n",
       "      <td>versicolor</td>\n",
       "    </tr>\n",
       "    <tr>\n",
       "      <th>31</th>\n",
       "      <td>5.4</td>\n",
       "      <td>3.4</td>\n",
       "      <td>1.5</td>\n",
       "      <td>0.4</td>\n",
       "      <td>setosa</td>\n",
       "      <td>setosa</td>\n",
       "    </tr>\n",
       "    <tr>\n",
       "      <th>7</th>\n",
       "      <td>5.0</td>\n",
       "      <td>3.4</td>\n",
       "      <td>1.5</td>\n",
       "      <td>0.2</td>\n",
       "      <td>setosa</td>\n",
       "      <td>setosa</td>\n",
       "    </tr>\n",
       "    <tr>\n",
       "      <th>5</th>\n",
       "      <td>5.4</td>\n",
       "      <td>3.9</td>\n",
       "      <td>1.7</td>\n",
       "      <td>0.4</td>\n",
       "      <td>setosa</td>\n",
       "      <td>setosa</td>\n",
       "    </tr>\n",
       "    <tr>\n",
       "      <th>127</th>\n",
       "      <td>6.1</td>\n",
       "      <td>3.0</td>\n",
       "      <td>4.9</td>\n",
       "      <td>1.8</td>\n",
       "      <td>virginica</td>\n",
       "      <td>virginica</td>\n",
       "    </tr>\n",
       "    <tr>\n",
       "      <th>146</th>\n",
       "      <td>6.3</td>\n",
       "      <td>2.5</td>\n",
       "      <td>5.0</td>\n",
       "      <td>1.9</td>\n",
       "      <td>virginica</td>\n",
       "      <td>virginica</td>\n",
       "    </tr>\n",
       "    <tr>\n",
       "      <th>35</th>\n",
       "      <td>5.0</td>\n",
       "      <td>3.2</td>\n",
       "      <td>1.2</td>\n",
       "      <td>0.2</td>\n",
       "      <td>setosa</td>\n",
       "      <td>setosa</td>\n",
       "    </tr>\n",
       "    <tr>\n",
       "      <th>110</th>\n",
       "      <td>6.5</td>\n",
       "      <td>3.2</td>\n",
       "      <td>5.1</td>\n",
       "      <td>2.0</td>\n",
       "      <td>virginica</td>\n",
       "      <td>virginica</td>\n",
       "    </tr>\n",
       "    <tr>\n",
       "      <th>29</th>\n",
       "      <td>4.7</td>\n",
       "      <td>3.2</td>\n",
       "      <td>1.6</td>\n",
       "      <td>0.2</td>\n",
       "      <td>setosa</td>\n",
       "      <td>setosa</td>\n",
       "    </tr>\n",
       "    <tr>\n",
       "      <th>126</th>\n",
       "      <td>6.2</td>\n",
       "      <td>2.8</td>\n",
       "      <td>4.8</td>\n",
       "      <td>1.8</td>\n",
       "      <td>virginica</td>\n",
       "      <td>virginica</td>\n",
       "    </tr>\n",
       "    <tr>\n",
       "      <th>143</th>\n",
       "      <td>6.8</td>\n",
       "      <td>3.2</td>\n",
       "      <td>5.9</td>\n",
       "      <td>2.3</td>\n",
       "      <td>virginica</td>\n",
       "      <td>virginica</td>\n",
       "    </tr>\n",
       "    <tr>\n",
       "      <th>58</th>\n",
       "      <td>6.6</td>\n",
       "      <td>2.9</td>\n",
       "      <td>4.6</td>\n",
       "      <td>1.3</td>\n",
       "      <td>versicolor</td>\n",
       "      <td>versicolor</td>\n",
       "    </tr>\n",
       "    <tr>\n",
       "      <th>47</th>\n",
       "      <td>4.6</td>\n",
       "      <td>3.2</td>\n",
       "      <td>1.4</td>\n",
       "      <td>0.2</td>\n",
       "      <td>setosa</td>\n",
       "      <td>setosa</td>\n",
       "    </tr>\n",
       "    <tr>\n",
       "      <th>90</th>\n",
       "      <td>5.5</td>\n",
       "      <td>2.6</td>\n",
       "      <td>4.4</td>\n",
       "      <td>1.2</td>\n",
       "      <td>versicolor</td>\n",
       "      <td>versicolor</td>\n",
       "    </tr>\n",
       "    <tr>\n",
       "      <th>34</th>\n",
       "      <td>4.9</td>\n",
       "      <td>3.1</td>\n",
       "      <td>1.5</td>\n",
       "      <td>0.2</td>\n",
       "      <td>setosa</td>\n",
       "      <td>setosa</td>\n",
       "    </tr>\n",
       "    <tr>\n",
       "      <th>92</th>\n",
       "      <td>5.8</td>\n",
       "      <td>2.6</td>\n",
       "      <td>4.0</td>\n",
       "      <td>1.2</td>\n",
       "      <td>versicolor</td>\n",
       "      <td>versicolor</td>\n",
       "    </tr>\n",
       "    <tr>\n",
       "      <th>83</th>\n",
       "      <td>6.0</td>\n",
       "      <td>2.7</td>\n",
       "      <td>5.1</td>\n",
       "      <td>1.6</td>\n",
       "      <td>virginica</td>\n",
       "      <td>versicolor</td>\n",
       "    </tr>\n",
       "  </tbody>\n",
       "</table>\n",
       "</div>"
      ],
      "text/plain": [
       "     sepal length (cm)  sepal width (cm)  petal length (cm)  petal width (cm)  \\\n",
       "121                5.6               2.8                4.9               2.0   \n",
       "67                 5.8               2.7                4.1               1.0   \n",
       "148                6.2               3.4                5.4               2.3   \n",
       "77                 6.7               3.0                5.0               1.7   \n",
       "31                 5.4               3.4                1.5               0.4   \n",
       "7                  5.0               3.4                1.5               0.2   \n",
       "5                  5.4               3.9                1.7               0.4   \n",
       "127                6.1               3.0                4.9               1.8   \n",
       "146                6.3               2.5                5.0               1.9   \n",
       "35                 5.0               3.2                1.2               0.2   \n",
       "110                6.5               3.2                5.1               2.0   \n",
       "29                 4.7               3.2                1.6               0.2   \n",
       "126                6.2               2.8                4.8               1.8   \n",
       "143                6.8               3.2                5.9               2.3   \n",
       "58                 6.6               2.9                4.6               1.3   \n",
       "47                 4.6               3.2                1.4               0.2   \n",
       "90                 5.5               2.6                4.4               1.2   \n",
       "34                 4.9               3.1                1.5               0.2   \n",
       "92                 5.8               2.6                4.0               1.2   \n",
       "83                 6.0               2.7                5.1               1.6   \n",
       "\n",
       "    Predicted Iris Actual Iris  \n",
       "121      virginica   virginica  \n",
       "67      versicolor  versicolor  \n",
       "148      virginica   virginica  \n",
       "77      versicolor  versicolor  \n",
       "31          setosa      setosa  \n",
       "7           setosa      setosa  \n",
       "5           setosa      setosa  \n",
       "127      virginica   virginica  \n",
       "146      virginica   virginica  \n",
       "35          setosa      setosa  \n",
       "110      virginica   virginica  \n",
       "29          setosa      setosa  \n",
       "126      virginica   virginica  \n",
       "143      virginica   virginica  \n",
       "58      versicolor  versicolor  \n",
       "47          setosa      setosa  \n",
       "90      versicolor  versicolor  \n",
       "34          setosa      setosa  \n",
       "92      versicolor  versicolor  \n",
       "83       virginica  versicolor  "
      ]
     },
     "execution_count": 15,
     "metadata": {},
     "output_type": "execute_result"
    }
   ],
   "source": [
    "# Use test set to evaluate.\n",
    "results_comparison = X_test.copy()\n",
    "results_comparison['Predicted Iris'] = search.predict(X_test)\n",
    "results_comparison['Actual Iris'] = y_test.copy()\n",
    "\n",
    "# Map labels to actual Iris names.\n",
    "iris_encode = {0: 'setosa', 1: 'versicolor', 2: 'virginica'}\n",
    "    \n",
    "results_comparison['Predicted Iris'] = results_comparison['Predicted Iris'].map(iris_encode)\n",
    "results_comparison['Actual Iris'] = results_comparison['Actual Iris'].map(iris_encode)\n",
    "\n",
    "# View examples of the predictions compared to actual Iris.\n",
    "results_comparison.head(20)"
   ]
  }
 ],
 "metadata": {
  "kernelspec": {
   "display_name": "Python 3",
   "language": "python",
   "name": "python3"
  },
  "language_info": {
   "codemirror_mode": {
    "name": "ipython",
    "version": 3
   },
   "file_extension": ".py",
   "mimetype": "text/x-python",
   "name": "python",
   "nbconvert_exporter": "python",
   "pygments_lexer": "ipython3",
   "version": "3.7.6"
  }
 },
 "nbformat": 4,
 "nbformat_minor": 2
}
